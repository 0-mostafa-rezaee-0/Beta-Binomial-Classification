{
  "cells": [
    {
      "cell_type": "markdown",
      "metadata": {},
      "source": [
        "# 3. Mastery Map Visualization\n",
        "\n",
        "Visualize attempts×successes mastery regions under chosen priors and thresholds.\n"
      ]
    },
    {
      "cell_type": "code",
      "execution_count": null,
      "metadata": {},
      "outputs": [],
      "source": [
        "import numpy as np\n",
        "import matplotlib.pyplot as plt\n",
        "from scipy.stats import beta\n",
        "\n",
        "alpha_prior, beta_prior = 2.0, 2.0\n",
        "familiar, proficient, confidence = 0.3, 0.5, 0.8\n",
        "max_attempts = 20\n",
        "\n",
        "def posterior_params(a0, b0, n, k):\n",
        "    return a0 + k, b0 + (n-k)\n",
        "\n",
        "def ci_low(a, b, conf):\n",
        "    return beta.ppf((1-conf)/2, a, b)\n",
        "\n",
        "grid = np.empty((max_attempts+1, max_attempts+1))\n",
        "for n in range(max_attempts+1):\n",
        "    for k in range(n+1):\n",
        "        a, b = posterior_params(alpha_prior, beta_prior, n, k)\n",
        "        low = ci_low(a, b, confidence)\n",
        "        grid[n, k] = 2 if low >= proficient else (1 if low >= familiar else 0)\n",
        "\n",
        "plt.imshow(grid.T, origin='lower', extent=[0, max_attempts, 0, max_attempts], aspect='equal', cmap='viridis')\n",
        "plt.xlabel('Attempts')\n",
        "plt.ylabel('Successes')\n",
        "plt.title('Beta–Binomial Mastery Map')\n",
        "plt.show()\n"
      ]
    }
  ],
  "metadata": {
    "language_info": {
      "name": "python"
    }
  },
  "nbformat": 4,
  "nbformat_minor": 2
}
