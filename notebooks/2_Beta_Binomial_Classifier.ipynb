{
  "cells": [
    {
      "cell_type": "markdown",
      "metadata": {},
      "source": [
        "# 2. Beta–Binomial Classifier\n",
        "\n",
        "Load grouped count data, compute posterior summaries, and assign mastery labels.\n"
      ]
    },
    {
      "cell_type": "code",
      "execution_count": null,
      "metadata": {},
      "outputs": [],
      "source": [
        "import pandas as pd\n",
        "from pathlib import Path\n",
        "from scipy.stats import beta\n",
        "\n",
        "alpha_prior, beta_prior = 2.0, 2.0\n",
        "familiar, proficient, confidence = 0.3, 0.5, 0.8\n",
        "\n",
        "examples = pd.read_csv(Path('../data/beta_binomial_examples.csv'))\n",
        "\n",
        "rows = []\n",
        "for _, r in examples.iterrows():\n",
        "    a_post = alpha_prior + int(r.successes)\n",
        "    b_post = beta_prior + (int(r.attempts) - int(r.successes))\n",
        "    mean = a_post / (a_post + b_post)\n",
        "    ci_low = beta.ppf((1-confidence)/2, a_post, b_post)\n",
        "    label = 'Proficient' if ci_low >= proficient else ('Familiar' if ci_low >= familiar else 'Attempted')\n",
        "    rows.append({**r.to_dict(), 'post_mean': mean, 'ci_low': ci_low, 'label': label})\n",
        "\n",
        "pd.DataFrame(rows)\n"
      ]
    }
  ],
  "metadata": {
    "language_info": {
      "name": "python"
    }
  },
  "nbformat": 4,
  "nbformat_minor": 2
}
