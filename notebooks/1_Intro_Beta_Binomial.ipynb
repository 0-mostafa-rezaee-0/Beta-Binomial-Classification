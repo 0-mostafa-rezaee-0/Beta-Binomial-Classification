{
  "cells": [
    {
      "cell_type": "markdown",
      "metadata": {},
      "source": [
        "# 1. Intro to Beta–Binomial\n",
        "\n",
        "This notebook introduces the Beta–Binomial model for grouped binary outcomes and shows simple posterior updates with small examples.\n"
      ]
    },
    {
      "cell_type": "code",
      "execution_count": null,
      "metadata": {},
      "outputs": [],
      "source": [
        "import pandas as pd\n",
        "from scipy.stats import beta\n",
        "\n",
        "alpha_prior, beta_prior = 2.0, 2.0\n",
        "attempts, successes = 5, 3\n",
        "alpha_post = alpha_prior + successes\n",
        "beta_post = beta_prior + (attempts - successes)\n",
        "post_mean = alpha_post / (alpha_post + beta_post)\n",
        "ci = beta.ppf([0.1, 0.9], alpha_post, beta_post)\n",
        "post_mean, ci\n"
      ]
    }
  ],
  "metadata": {
    "language_info": {
      "name": "python"
    }
  },
  "nbformat": 4,
  "nbformat_minor": 2
}
